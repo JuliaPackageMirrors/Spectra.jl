{
 "cells": [
  {
   "cell_type": "markdown",
   "metadata": {},
   "source": [
    "Charles Le Losq\n",
    "August 2016\n",
    "\n",
    "This notebook shows examples of how to use the baseline function, and compares the outcomes of using splines over mcahine learning algorithms.\n",
    "    \n",
    "First we call the relevant libraries. Note that Scikit Learn SHOULD be installed to your system to use the machine learning algorithms..."
   ]
  },
  {
   "cell_type": "code",
   "execution_count": 1,
   "metadata": {
    "collapsed": false
   },
   "outputs": [
    {
     "name": "stderr",
     "output_type": "stream",
     "text": [
      "INFO: Recompiling stale cache file /Users/charles/.julia/lib/v0.4/Spectra.ji for module Spectra.\n",
      "INFO: Recompiling stale cache file /Users/charles/.julia/lib/v0.4/Rmath.ji for module Rmath.\n",
      "INFO: Recompiling stale cache file /Users/charles/.julia/lib/v0.4/StatsFuns.ji for module StatsFuns.\n",
      "INFO: Recompiling stale cache file /Users/charles/.julia/lib/v0.4/StatsBase.ji for module StatsBase.\n",
      "INFO: Recompiling stale cache file /Users/charles/.julia/lib/v0.4/PyPlot.ji for module PyPlot.\n",
      "INFO: Recompiling stale cache file /Users/charles/.julia/lib/v0.4/PyCall.ji for module PyCall.\n",
      "INFO: Recompiling stale cache file /Users/charles/.julia/lib/v0.4/LsqFit.ji for module LsqFit.\n",
      "INFO: Recompiling stale cache file /Users/charles/.julia/lib/v0.4/Distributions.ji for module Distributions.\n",
      "WARNING: New definition \n",
      "    cdf(Distributions.Skellam, Real) at /Users/charles/.julia/v0.4/Distributions/src/univariate/discrete/skellam.jl:81\n",
      "is ambiguous with: \n",
      "    cdf(Distributions.Distribution{Distributions.Univariate, Distributions.Discrete}, Int64) at /Users/charles/.julia/v0.4/Distributions/src/univariates.jl:113.\n",
      "To fix, define \n",
      "    cdf(Distributions.Skellam, Int64)\n",
      "before the new definition.\n",
      "INFO: Recompiling stale cache file /Users/charles/.julia/lib/v0.4/JuMP.ji for module JuMP.\n",
      "INFO: Recompiling stale cache file /Users/charles/.julia/lib/v0.4/MathProgBase.ji for module MathProgBase.\n",
      "INFO: Recompiling stale cache file /Users/charles/.julia/lib/v0.4/ReverseDiffSparse.ji for module ReverseDiffSparse.\n",
      "INFO: Recompiling stale cache file /Users/charles/.julia/lib/v0.4/ForwardDiff.ji for module ForwardDiff.\n",
      "INFO: Recompiling stale cache file /Users/charles/.julia/lib/v0.4/Ipopt.ji for module Ipopt.\n",
      "ERROR: LoadError: LoadError: UndefVarError: @poly_str not defined\n",
      " in include at /Applications/Julia-0.4.6.app/Contents/Resources/julia/lib/julia/sys.dylib\n",
      " in include_from_node1 at /Applications/Julia-0.4.6.app/Contents/Resources/julia/lib/julia/sys.dylib\n",
      " in include at /Applications/Julia-0.4.6.app/Contents/Resources/julia/lib/julia/sys.dylib\n",
      " in include_from_node1 at /Applications/Julia-0.4.6.app/Contents/Resources/julia/lib/julia/sys.dylib\n",
      " [inlined code] from none:2\n",
      " in anonymous at no file:0\n",
      " in process_options at /Applications/Julia-0.4.6.app/Contents/Resources/julia/lib/julia/sys.dylib\n",
      " in _start at /Applications/Julia-0.4.6.app/Contents/Resources/julia/lib/julia/sys.dylib\n",
      "while loading /Users/charles/.julia/v0.4/Spectra/src/baseline.jl, in expression starting on line 102\n",
      "while loading /Users/charles/.julia/v0.4/Spectra/src/Spectra.jl, in expression starting on line 49\n"
     ]
    },
    {
     "ename": "LoadError",
     "evalue": "LoadError: Failed to precompile Spectra to /Users/charles/.julia/lib/v0.4/Spectra.ji\nwhile loading In[1], in expression starting on line 1",
     "output_type": "error",
     "traceback": [
      "LoadError: Failed to precompile Spectra to /Users/charles/.julia/lib/v0.4/Spectra.ji\nwhile loading In[1], in expression starting on line 1",
      "",
      " in error at /Applications/Julia-0.4.6.app/Contents/Resources/julia/lib/julia/sys.dylib",
      " in compilecache at loading.jl:400",
      " in recompile_stale at loading.jl:476",
      " in _require_from_serialized at loading.jl:83",
      " in _require_from_serialized at /Applications/Julia-0.4.6.app/Contents/Resources/julia/lib/julia/sys.dylib",
      " in require at /Applications/Julia-0.4.6.app/Contents/Resources/julia/lib/julia/sys.dylib"
     ]
    }
   ],
   "source": [
    "using Spectra\n",
    "using PyPlot\n",
    "using PyCall"
   ]
  },
  {
   "cell_type": "markdown",
   "metadata": {},
   "source": [
    "Now we import one of the Raman spectrum from the example data folder, and we plot it to have a nice look at it."
   ]
  },
  {
   "cell_type": "code",
   "execution_count": null,
   "metadata": {
    "collapsed": false
   },
   "outputs": [],
   "source": [
    "spectra = readdlm(\"./data/r040.txt\")\n",
    "if spectra[end,1] < spectra[1,1]\n",
    "    spectra = flipdim(spectra,1)\n",
    "end\n",
    "\n",
    "roi = [110. 230.; 1300. 2700.; 3800. 4000]\n",
    "y_calc, bas = baseline(spectra[:,1],spectra[:,2],roi,\"KRregression\")\n",
    "\n",
    "figure()\n",
    "plot(x,y,\"black\")\n",
    "plot(x,y_calc,\"blue\")\n",
    "plot(x,bas,\"red\")"
   ]
  },
  {
   "cell_type": "code",
   "execution_count": null,
   "metadata": {
    "collapsed": true
   },
   "outputs": [],
   "source": [
    "x = spectra[:,1]\n",
    "y = spectra[:,2]\n",
    "\n",
    "x_bas = spectra[(110. .< x .< 230) | (1300 .< x .< 2700.) | (3800 .< x .< 4000.),1]\n",
    "y_bas = spectra[(110. .< x .< 230) | (1300 .< x .< 2700.) | (3800 .< x .< 4000.),2]\n",
    "\n",
    "x_bas = reshape(x_bas,size(x_bas,1),1)\n",
    "y_bas = reshape(y_bas,size(y_bas,1),1)\n",
    "\n",
    "X_scaler = preprocessing.StandardScaler()\n",
    "Y_scaler = preprocessing.StandardScaler()\n",
    "\n",
    "X_scaler[:fit](x_bas)\n",
    "Y_scaler[:fit](y_bas)\n",
    "\n",
    "x_bas_sc = X_scaler[:transform](x_bas)\n",
    "y_bas_sc = Y_scaler[:transform](y_bas)\n",
    "x_sc = X_scaler[:transform](reshape(x,size(x,1),1))"
   ]
  },
  {
   "cell_type": "code",
   "execution_count": null,
   "metadata": {
    "collapsed": false
   },
   "outputs": [],
   "source": [
    "clf = kernelridge.KernelRidge(kernel=\"rbf\", gamma=0.1)\n",
    "kr = grid_search.GridSearchCV(clf,cv=5,param_grid=Dict(\"alpha\"=> [1e0, 0.1, 1e-2, 1e-3,1e-4,1e-5],\n",
    "                              \"gamma\"=> np.logspace(-4, 4, 9)))\n",
    "kr[:fit](x_bas_sc, y_bas_sc)\n",
    "y_kr_sc = kr[:predict](x_sc)\n",
    "y_kr = Y_scaler[:inverse_transform](y_kr_sc)"
   ]
  },
  {
   "cell_type": "code",
   "execution_count": null,
   "metadata": {
    "collapsed": false
   },
   "outputs": [],
   "source": [
    "figure()\n",
    "plot(x,y,color=\"black\")\n",
    "plot(x_bas,y_bas,color=\"green\")\n",
    "plot(x,y_kr,color=\"red\")\n",
    "kr[:best_params_]"
   ]
  },
  {
   "cell_type": "code",
   "execution_count": null,
   "metadata": {
    "collapsed": true
   },
   "outputs": [],
   "source": []
  }
 ],
 "metadata": {
  "kernelspec": {
   "display_name": "Julia 0.4.6",
   "language": "julia",
   "name": "julia-0.4"
  },
  "language_info": {
   "file_extension": ".jl",
   "mimetype": "application/julia",
   "name": "julia",
   "version": "0.4.6"
  }
 },
 "nbformat": 4,
 "nbformat_minor": 0
}
