{
 "cells": [
  {
   "cell_type": "markdown",
   "metadata": {},
   "source": [
    "# Introduction\n",
    "\n",
    "This is an example of how to use the Rameau function of Spectra.jl on the dataset published in 2012 in \n",
    "\n",
    "Le Losq, Neuville, Moretti, Roux, 2012. Determination of water content in silicate glasses using Raman spectrometry: Implications for the study of explosive volcanism. American Mineralogist 97, 779-790.\n",
    "\n",
    "Please refer to the documentation available at http://spectrajl.readthedocs.io/en/latest/\n",
    "\n",
    "You must have a file liste and different folders already prepared before calling Rameau. Ensure this is done, follow the present example architecture and the fileliste example provided. Also consult the docs for further details, and if help is needed, please send an email!"
   ]
  },
  {
   "cell_type": "code",
   "execution_count": 1,
   "metadata": {
    "collapsed": false
   },
   "outputs": [],
   "source": [
    "# we first call Spectra\n",
    "using Spectra"
   ]
  },
  {
   "cell_type": "code",
   "execution_count": 2,
   "metadata": {
    "collapsed": false
   },
   "outputs": [
    {
     "data": {
      "text/plain": [
       "514.532"
      ]
     },
     "execution_count": 2,
     "metadata": {},
     "output_type": "execute_result"
    }
   ],
   "source": [
    "# Then we define the different paths (relative paths are used, i.,e. relative to where your code is placed)\n",
    "in_liste = \"./dataliste_rameau_2012.csv\" # the fileliste\n",
    "in_path = \"./raw_2012/\" # the repertory of raw data\n",
    "out_path = \"./treated/\" # where I want my treated data to be saved\n",
    "fig_path=\"./figures/\" #where I want the figures to be saved\n",
    "rws_save_file = \"rws_calculated.csv\" # the file with the rws\n",
    "rws_save_fig = \"rws_calculated.jpg\" # the calibration figure\n",
    "paths = (in_liste,in_path,out_path,fig_path,rws_save_file,rws_save_fig) # we put everything in a Tuple\n",
    "\n",
    "input_properties = ('\\t',0) # delimiter, number of lines to skip in my input data files\n",
    "\n",
    "switches = (\"internal\",\"yes\", \"no\", \"yes\") # calibration? Double baseline? Long correction?\n",
    "\n",
    "used_laser = 514.532 # nm, warning this is an additional that is currently set at 532 nm, so we need to change it"
   ]
  },
  {
   "cell_type": "code",
   "execution_count": null,
   "metadata": {
    "collapsed": false
   },
   "outputs": [
    {
     "name": "stdout",
     "output_type": "stream",
     "text": [
      "Spectrum ad0111.txt, the rws is 6.085559996682612\n",
      "Spectrum ad0112.txt, the rws is 17.136529952428035\n",
      "Spectrum ad0108.txt, the rws is 10.547178568036912\n"
     ]
    }
   ],
   "source": [
    "rameau(paths,switches,input_properties = ('\\t',0),laser = used_laser)"
   ]
  },
  {
   "cell_type": "markdown",
   "metadata": {},
   "source": [
    "# Et voilà! \n",
    "This is it! You can look at the results in the different folders, and tweak the parameters in your liste file."
   ]
  }
 ],
 "metadata": {
  "kernelspec": {
   "display_name": "Julia 0.4.6",
   "language": "julia",
   "name": "julia-0.4"
  },
  "language_info": {
   "file_extension": ".jl",
   "mimetype": "application/julia",
   "name": "julia",
   "version": "0.4.6"
  }
 },
 "nbformat": 4,
 "nbformat_minor": 0
}
